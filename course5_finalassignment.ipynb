{
 "cells": [
  {
   "cell_type": "code",
   "execution_count": null,
   "id": "6a015a37",
   "metadata": {},
   "outputs": [],
   "source": [
    "import yfinance as yf\n",
    "import pandas as pd\n",
    "import requests\n",
    "from bs4 import BeautifulSoup\n",
    "import plotly.graph_objects as go\n",
    "from plotly.subplots import make_subplots"
   ]
  },
  {
   "cell_type": "code",
   "execution_count": null,
   "id": "d4d92a32",
   "metadata": {},
   "outputs": [],
   "source": [
    "def make_graph(stock_data, revenue_data, stock):\n",
    "    fig = make_subplots(rows=2, cols=1, shared_xaxes=True, subplot_titles=(\"Historical Share Price\", \"Historical Revenue\"), vertical_spacing = .3)\n",
    "    stock_data_specific = stock_data[stock_data.Date <= '2021--06-14']\n",
    "    revenue_data_specific = revenue_data[revenue_data.Date <= '2021-04-30']\n",
    "    fig.add_trace(go.Scatter(x=pd.to_datetime(stock_data_specific.Date, infer_datetime_format=True), y=stock_data_specific.Close.astype(\"float\"), name=\"Share Price\"), row=1, col=1)\n",
    "    fig.add_trace(go.Scatter(x=pd.to_datetime(revenue_data_specific.Date, infer_datetime_format=True), y=revenue_data_specific.Revenue.astype(\"float\"), name=\"Revenue\"), row=2, col=1)\n",
    "    fig.update_xaxes(title_text=\"Date\", row=1, col=1)\n",
    "    fig.update_xaxes(title_text=\"Date\", row=2, col=1)\n",
    "    fig.update_yaxes(title_text=\"Price ($US)\", row=1, col=1)\n",
    "    fig.update_yaxes(title_text=\"Revenue ($US Millions)\", row=2, col=1)\n",
    "    fig.update_layout(showlegend=False,\n",
    "    height=900,\n",
    "    title=stock,\n",
    "    xaxis_rangeslider_visible=True)\n",
    "    fig.show()"
   ]
  },
  {
   "cell_type": "code",
   "execution_count": null,
   "id": "fbcaf4a9",
   "metadata": {},
   "outputs": [],
   "source": [
    "tesla = yf.Ticker(\"TSLA\")\n",
    "tesla_data = tesla.history(period=\"max\")\n",
    "\n",
    "tesla_data.reset_index(inplace=True)\n",
    "tesla_data.head()"
   ]
  },
  {
   "cell_type": "code",
   "execution_count": null,
   "id": "ff4c9abf",
   "metadata": {},
   "outputs": [],
   "source": [
    "url = \"https://www.macrotrends.net/stocks/charts/TSLA/tesla/revenue\"\n",
    "\n",
    "tesla_url_data = requests.get(url).text\n",
    "tesla_url_soup = BeautifulSoup(tesla_url_data, 'html5lib')\n",
    "\n",
    "tesla_revenue_df = pd.DataFrame(columns=[\"Date\", \"Revenue\"])\n",
    "\n",
    "revenue_table = tesla_url_soup.find(\"tbody\")\n",
    "\n",
    "for row in revenue_table.find_all(\"tr\"):\n",
    "    col = row.find_all(\"td\")\n",
    "    date = col[0].text\n",
    "    revn = col[1].text\n",
    "\n",
    "    tesla_revenue_df = tesla_revenue_df.append({\"Date\":date, \"Revenue\":revn}, ignore_index=True)\n",
    "\n",
    "tesla_revenue_df.tail()"
   ]
  },
  {
   "cell_type": "code",
   "execution_count": null,
   "id": "d424ea40",
   "metadata": {},
   "outputs": [],
   "source": [
    "tesla_revenue_df[\"Revenue\"] = tesla_revenue_df['Revenue'].str.replace(',|\\$',\"\")\n",
    "tesla_revenue_df.dropna(inplace=True)\n",
    "tesla_revenue_df = tesla_revenue_df[tesla_revenue_df['Revenue'] != \"\"]"
   ]
  },
  {
   "cell_type": "code",
   "execution_count": null,
   "id": "63e3ba87",
   "metadata": {},
   "outputs": [],
   "source": [
    "gamestop = yf.Ticker(\"GME\")\n",
    "gme_data = gamestop.history(period=\"max\")\n",
    "gme_data.reset_index(inplace=True)\n",
    "gme_data.head()"
   ]
  },
  {
   "cell_type": "code",
   "execution_count": null,
   "id": "4913ecb8",
   "metadata": {},
   "outputs": [],
   "source": [
    "url = \"https://cf-courses-data.s3.us.cloud-object-storage.appdomain.cloud/IBMDeveloperSkillsNetwork-PY0220EN-SkillsNetwork/labs/project/stock.html\"\n",
    "\n",
    "gme_url_data = requests.get(url).text\n",
    "gme_url_soup = BeautifulSoup(tesla_url_data, 'html5lib')\n",
    "\n",
    "gme_revenue_df = pd.DataFrame(columns=[\"Date\", \"Revenue\"])\n",
    "\n",
    "revenue_table = gme_url_soup.find(\"tbody\")\n",
    "\n",
    "for row in revenue_table.find_all(\"tr\"):\n",
    "    col = row.find_all(\"td\")\n",
    "    date = col[0].text\n",
    "    revn = col[1].text\n",
    "\n",
    "    gme_revenue_df = gme_revenue_df.append({\"Date\":date, \"Revenue\":revn}, ignore_index=True)\n",
    "\n",
    "gme_revenue_df.tail()"
   ]
  },
  {
   "cell_type": "code",
   "execution_count": null,
   "id": "82494abd",
   "metadata": {},
   "outputs": [],
   "source": [
    "gme_revenue_df[\"Revenue\"] = gme_revenue_df['Revenue'].str.replace(',|\\$',\"\")\n",
    "gme_revenue_df.dropna(inplace=True)\n",
    "gme_revenue_df = gme_revenue_df[gme_revenue_df['Revenue'] != \"\"]"
   ]
  },
  {
   "cell_type": "code",
   "execution_count": null,
   "id": "1a1e7cf3",
   "metadata": {},
   "outputs": [],
   "source": [
    "make_graph(tesla_data, tesla_revenue_df, 'TESLA')"
   ]
  },
  {
   "cell_type": "code",
   "execution_count": null,
   "id": "ad94c2f0",
   "metadata": {},
   "outputs": [],
   "source": [
    "make_graph(gme_data, gme_revenue_df, 'GAMESTOP')"
   ]
  },
  {
   "cell_type": "code",
   "execution_count": null,
   "id": "57ffa0a0",
   "metadata": {},
   "outputs": [],
   "source": []
  },
  {
   "cell_type": "code",
   "execution_count": null,
   "id": "ce7f1dc4",
   "metadata": {},
   "outputs": [],
   "source": []
  },
  {
   "cell_type": "code",
   "execution_count": null,
   "id": "280b6e19",
   "metadata": {},
   "outputs": [],
   "source": []
  },
  {
   "cell_type": "code",
   "execution_count": null,
   "id": "379c06c0",
   "metadata": {},
   "outputs": [],
   "source": []
  }
 ],
 "metadata": {
  "kernelspec": {
   "display_name": "Python 3 (ipykernel)",
   "language": "python",
   "name": "python3"
  },
  "language_info": {
   "codemirror_mode": {
    "name": "ipython",
    "version": 3
   },
   "file_extension": ".py",
   "mimetype": "text/x-python",
   "name": "python",
   "nbconvert_exporter": "python",
   "pygments_lexer": "ipython3",
   "version": "3.10.4"
  }
 },
 "nbformat": 4,
 "nbformat_minor": 5
}
